{
 "cells": [
  {
   "cell_type": "code",
   "execution_count": 2,
   "metadata": {},
   "outputs": [],
   "source": [
    "import os\n",
    "import re\n",
    "import numpy as np\n",
    "import matplotlib.pyplot as plt"
   ]
  },
  {
   "cell_type": "code",
   "execution_count": 5,
   "metadata": {},
   "outputs": [],
   "source": [
    "mishnah_path = r'/Users/lee/Judaism/Sefaria_Fun/sefaria_txt/Mishnah/'\n",
    "gemara_path = r'/Users/lee/Judaism/Sefaria_Fun/sefaria_txt/Talmud/Bavli/'"
   ]
  },
  {
   "cell_type": "markdown",
   "metadata": {},
   "source": [
    "## Clean Gemara."
   ]
  },
  {
   "cell_type": "code",
   "execution_count": 6,
   "metadata": {},
   "outputs": [],
   "source": [
    "example_mishnah = open(mishnah_path + 'Seder Zeraim/Mishnah Berakhot/Hebrew/merged.txt', 'rb').read().decode(encoding='utf-8')\n",
    "example_gemara = open(gemara_path + 'Seder Nezikin/Sanhedrin/English/merged.txt', 'rb').read().decode(encoding='utf-8')"
   ]
  },
  {
   "cell_type": "code",
   "execution_count": 3,
   "metadata": {
    "scrolled": true
   },
   "outputs": [],
   "source": [
    "#print(example_gemara)"
   ]
  },
  {
   "cell_type": "code",
   "execution_count": 7,
   "metadata": {},
   "outputs": [],
   "source": [
    "headerless_gemara = example_gemara[example_gemara.find('\\n\\n\\n'):][2:]"
   ]
  },
  {
   "cell_type": "code",
   "execution_count": 8,
   "metadata": {
    "scrolled": true
   },
   "outputs": [],
   "source": [
    "dafless_gemara = re.sub(r'\\n\\nDaf .*\\n', '\\n', headerless_gemara)[2:]\n",
    "dafless_gemara = re.sub(r'\\n\\n\\n\\n', '', dafless_gemara)"
   ]
  },
  {
   "cell_type": "code",
   "execution_count": 9,
   "metadata": {
    "scrolled": true
   },
   "outputs": [],
   "source": [
    "#print(dafless_gemara)"
   ]
  },
  {
   "cell_type": "code",
   "execution_count": 10,
   "metadata": {},
   "outputs": [],
   "source": [
    "clean_gemara = re.sub(r'<.*?>', '', dafless_gemara)"
   ]
  },
  {
   "cell_type": "code",
   "execution_count": 11,
   "metadata": {
    "scrolled": true
   },
   "outputs": [],
   "source": [
    "#print(clean_gemara)"
   ]
  },
  {
   "cell_type": "markdown",
   "metadata": {},
   "source": [
    "## Remove extra lines."
   ]
  },
  {
   "cell_type": "code",
   "execution_count": 12,
   "metadata": {},
   "outputs": [],
   "source": [
    "english_gemara = re.sub('\\n\\n', '\\n', clean_gemara)"
   ]
  },
  {
   "cell_type": "code",
   "execution_count": 13,
   "metadata": {
    "scrolled": true
   },
   "outputs": [],
   "source": [
    "#print(english_gemara)"
   ]
  },
  {
   "cell_type": "markdown",
   "metadata": {},
   "source": [
    "## Iterate through all files."
   ]
  },
  {
   "cell_type": "code",
   "execution_count": 12,
   "metadata": {},
   "outputs": [],
   "source": [
    "directories = [x[0] for x in os.walk(gemara_path)]"
   ]
  },
  {
   "cell_type": "code",
   "execution_count": 13,
   "metadata": {},
   "outputs": [],
   "source": [
    "english = [i for i in directories if 'English' in i and not 'Commentary' in i] \n",
    "hebrew = [i for i in directories if 'Hebrew' in i and not 'Commentary' in i] "
   ]
  },
  {
   "cell_type": "code",
   "execution_count": 14,
   "metadata": {},
   "outputs": [],
   "source": [
    "for dir in english:\n",
    "    gemara = open(dir + '/merged.txt', 'rb').read().decode(encoding='utf-8')\n",
    "    gemara = gemara[gemara.find('\\n\\n\\n\\n'):][2:]\n",
    "    gemara = re.sub(r'\\n\\nDaf .*\\n', '\\n', gemara)[2:]\n",
    "    gemara = re.sub(r'\\n\\n\\n\\n', '', gemara)\n",
    "    gemara = re.sub(r'<.*?>', '', gemara)\n",
    "    gemara = re.sub('\\n\\n', '\\n', gemara)\n",
    "    gemara += '\\n\\n'\n",
    "    \n",
    "    text_file = open(dir + '/clean.txt', 'wt')\n",
    "    n = text_file.write(gemara)\n",
    "    text_file.close()"
   ]
  },
  {
   "cell_type": "code",
   "execution_count": 15,
   "metadata": {},
   "outputs": [],
   "source": [
    "for dir in hebrew:\n",
    "    gemara = open(dir + '/merged.txt', 'rb').read().decode(encoding='utf-8')\n",
    "    gemara = gemara[gemara.find('\\n\\n\\n\\n'):][2:]\n",
    "    gemara = re.sub(r'\\n\\nDaf .*\\n', '\\n', gemara)[2:]\n",
    "    gemara = re.sub(r'\\n\\n\\n\\n', '', gemara)\n",
    "    gemara = re.sub(r'<.*?>', '', gemara)\n",
    "    gemara = re.sub('\\n\\n', '\\n', gemara)\n",
    "    gemara += '\\n\\n'\n",
    "    \n",
    "    text_file = open(dir + '/clean.txt', 'wt')\n",
    "    n = text_file.write(gemara)\n",
    "    text_file.close()"
   ]
  },
  {
   "cell_type": "code",
   "execution_count": 16,
   "metadata": {},
   "outputs": [],
   "source": [
    "directories = [x[0] for x in os.walk(gemara_path)]\n",
    "english = [i for i in directories if 'English' in i and not 'Commentary' in i] \n",
    "hebrew = [i for i in directories if 'Hebrew' in i and not 'Commentary' in i] \n",
    "\n",
    "gemara_english = ''\n",
    "gemara_hebrew = ''\n",
    "\n",
    "for direct in english:\n",
    "    gemara = open(direct + '/clean.txt', 'rb').read().decode(encoding='utf-8')\n",
    "    gemara_english += gemara\n",
    "\n",
    "for direct in hebrew:\n",
    "    gemara = open(direct + '/clean.txt', 'rb').read().decode(encoding='utf-8')\n",
    "    gemara_hebrew += gemara"
   ]
  },
  {
   "cell_type": "code",
   "execution_count": 17,
   "metadata": {},
   "outputs": [],
   "source": [
    "with open(\"gemara_english.txt\", \"w\") as text_file:\n",
    "    text_file.write(gemara_english)\n",
    "\n",
    "with open(\"gemara_hebramaic.txt\", \"w\") as text_file:\n",
    "    text_file.write(gemara_hebrew)"
   ]
  },
  {
   "cell_type": "code",
   "execution_count": null,
   "metadata": {},
   "outputs": [],
   "source": []
  }
 ],
 "metadata": {
  "kernelspec": {
   "display_name": "Python 3 (ipykernel)",
   "language": "python",
   "name": "python3"
  },
  "language_info": {
   "codemirror_mode": {
    "name": "ipython",
    "version": 3
   },
   "file_extension": ".py",
   "mimetype": "text/x-python",
   "name": "python",
   "nbconvert_exporter": "python",
   "pygments_lexer": "ipython3",
   "version": "3.11.4"
  }
 },
 "nbformat": 4,
 "nbformat_minor": 4
}
